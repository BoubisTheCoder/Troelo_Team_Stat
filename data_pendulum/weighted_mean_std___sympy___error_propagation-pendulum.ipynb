{
 "cells": [
  {
   "cell_type": "code",
   "execution_count": 1,
   "id": "313c832f",
   "metadata": {},
   "outputs": [],
   "source": [
    "import scipy as sp\n",
    "import os, sys\n",
    "import numpy as np\n",
    "import matplotlib.pyplot as plt\n",
    "from scipy.signal import find_peaks\n",
    "from iminuit import Minuit"
   ]
  },
  {
   "cell_type": "code",
   "execution_count": 10,
   "id": "a3f5716e",
   "metadata": {},
   "outputs": [],
   "source": [
    "#data meassured at lab\n",
    "\n",
    "vLi=np.array([157.2,157.05,157.1,157.2]) #cm\n",
    "vdLi=np.array([0.1,0.21,0.1,0.2]) #cm\n",
    "vdhook=2.68 #cm\n",
    "vddhook=0.02\n",
    "vRball=6.05/2\n",
    "vdRball=0.05\n",
    "\n",
    "vT=2.511\n",
    "vdT=0.001\n"
   ]
  },
  {
   "cell_type": "code",
   "execution_count": 11,
   "id": "2f536d2d",
   "metadata": {},
   "outputs": [],
   "source": [
    "def weighted_mean_err_std(A,dA):\n",
    "    weights= 1/dA**2\n",
    "    weighted_mean=np.average(A, weights=weights)\n",
    "    err_weighted_mean=np.sqrt(1/sum(weights))\n",
    "    variance = np.average((A-weighted_mean)**2, weights=weights)\n",
    "    weighted_std=np.sqrt(variance)\n",
    "    print(\"the weighted mean is\",weighted_mean,'+/-',err_weighted_mean,\"std:\",weighted_std)\n",
    "    return weighted_mean,err_weighted_mean,weighted_std"
   ]
  },
  {
   "cell_type": "code",
   "execution_count": 12,
   "id": "63291839",
   "metadata": {},
   "outputs": [
    {
     "name": "stdout",
     "output_type": "stream",
     "text": [
      "the weighted mean is 157.14589150835434 +/- 0.06354161780963619 std: 0.05630076626253022\n"
     ]
    }
   ],
   "source": [
    "#Weighted mean, its error, std of ball and rail\n",
    "vLi,vdLi,vLi_std=weighted_mean_err_std(vLi,vdLi)\n"
   ]
  },
  {
   "cell_type": "code",
   "execution_count": 13,
   "id": "85ba815d",
   "metadata": {},
   "outputs": [],
   "source": [
    "# from error propagation.ipynb\n",
    "from IPython.core.display import Latex\n",
    "\n",
    "def lprint(*args,**kwargs):\n",
    "    \"\"\"Pretty print arguments as LaTeX using IPython display system \n",
    "    \n",
    "    Parameters\n",
    "    ----------\n",
    "    args : tuple \n",
    "        What to print (in LaTeX math mode)\n",
    "    kwargs : dict \n",
    "        optional keywords to pass to `display` \n",
    "    \"\"\"\n",
    "    display(Latex('$$'+' '.join(args)+'$$'),**kwargs)"
   ]
  },
  {
   "cell_type": "code",
   "execution_count": 14,
   "id": "a93ade68",
   "metadata": {
    "scrolled": true
   },
   "outputs": [
    {
     "data": {
      "text/latex": [
       "$$Ltrue = Li + Rball - dhook$$"
      ],
      "text/plain": [
       "<IPython.core.display.Latex object>"
      ]
     },
     "metadata": {},
     "output_type": "display_data"
    },
    {
     "data": {
      "text/latex": [
       "$$\\sigma_{Ltrue} = \\sqrt{\\sigma_{Li}^{2} + \\sigma_{Rball}^{2} + \\sigma_{ddhook}^{2}}$$"
      ],
      "text/plain": [
       "<IPython.core.display.Latex object>"
      ]
     },
     "metadata": {},
     "output_type": "display_data"
    }
   ],
   "source": [
    "# from error propagation.ipynb\n",
    "\n",
    "# Import SymPy: \n",
    "from sympy import * \n",
    "    \n",
    "# Define variables:\n",
    "Ltrue,Li,dhook,Rball =  symbols(\"Ltrue,Li,dhook,Rball\")\n",
    "dLtrue,dLi,ddhook,dRball = symbols(\"sigma_Ltrue, sigma_Li, sigma_ddhook, sigma_Rball\")\n",
    "\n",
    "# Perimeter:\n",
    "# Define relation, and print:\n",
    "Ltrue=Li-dhook+Rball\n",
    "lprint(latex(Eq(symbols('Ltrue'),Ltrue)))\n",
    "\n",
    "# Calculate uncertainty and print:\n",
    "dLtrue = sqrt((Ltrue.diff(Li) * dLi)**2 + (Ltrue.diff(dhook) * ddhook)**2 + (Ltrue.diff(Rball) * dRball)**2)\n",
    "lprint(latex(Eq(symbols('sigma_Ltrue'), dLtrue)))\n",
    "\n",
    "# Turn expression into numerical functions \n",
    "fg = lambdify((Li,dhook,Rball),Ltrue)\n",
    "fdg = lambdify((Li,dLi,dhook,ddhook,Rball,dRball),dLtrue)"
   ]
  },
  {
   "cell_type": "code",
   "execution_count": 15,
   "id": "972c868c",
   "metadata": {},
   "outputs": [
    {
     "data": {
      "text/latex": [
       "$$Ltrue = (157.5 \\pm 0.1)\\,\\mathrm{cm}$$"
      ],
      "text/plain": [
       "<IPython.core.display.Latex object>"
      ]
     },
     "metadata": {},
     "output_type": "display_data"
    }
   ],
   "source": [
    "# Numerically evaluate expressions and print \n",
    "vLtrue = fg(vLi,vdhook,vRball)\n",
    "vdLtrue = fdg(vLi,vdLi,vdhook,vddhook,vRball,vdRball)\n",
    "lprint(fr'Ltrue = ({vLtrue:.1f} \\pm {vdLtrue:.1f})\\,\\mathrm{{cm}}')\n"
   ]
  },
  {
   "cell_type": "code",
   "execution_count": 16,
   "id": "cf7aa90b",
   "metadata": {},
   "outputs": [
    {
     "data": {
      "text/latex": [
       "$$g = \\frac{39.4784176043574 Ltrue}{T^{2}}$$"
      ],
      "text/plain": [
       "<IPython.core.display.Latex object>"
      ]
     },
     "metadata": {},
     "output_type": "display_data"
    },
    {
     "data": {
      "text/latex": [
       "$$\\sigma_{g} = 78.9568352087149 \\sqrt{\\frac{Ltrue^{2} \\sigma_{T}^{2}}{T^{6}} + \\frac{0.25 \\sigma_{Ltrue}^{2}}{T^{4}}}$$"
      ],
      "text/plain": [
       "<IPython.core.display.Latex object>"
      ]
     },
     "metadata": {},
     "output_type": "display_data"
    }
   ],
   "source": [
    "# from error propagation.ipynb\n",
    "\n",
    "# Import SymPy: \n",
    "from sympy import * \n",
    "    \n",
    "# Define variables:\n",
    "g,Ltrue,T =  symbols(\"g,Ltrue,T\")\n",
    "dg,dLtrue,dT = symbols(\"sigma_g,sigma_Ltrue, sigma_T\")\n",
    "\n",
    "# Perimeter:\n",
    "# Define relation, and print:\n",
    "g=Ltrue*np.square(2*np.pi/T)\n",
    "lprint(latex(Eq(symbols('g'),g)))\n",
    "\n",
    "# Calculate uncertainty and print:\n",
    "dg = sqrt((g.diff(Ltrue) * dLtrue)**2 + (g.diff(T) * dT)**2)\n",
    "lprint(latex(Eq(symbols('sigma_g'), dg)))\n",
    "\n",
    "# Turn expression into numerical functions \n",
    "fg = lambdify((Ltrue,T),g)\n",
    "fdg = lambdify((Ltrue,dLtrue,T,dT),dg)"
   ]
  },
  {
   "cell_type": "code",
   "execution_count": 23,
   "id": "426fbbce",
   "metadata": {},
   "outputs": [
    {
     "data": {
      "text/latex": [
       "$$g = (9.861 \\pm 0.009)\\,\\mathrm{[m/sec^2]}$$"
      ],
      "text/plain": [
       "<IPython.core.display.Latex object>"
      ]
     },
     "metadata": {},
     "output_type": "display_data"
    }
   ],
   "source": [
    "# Numerically evaluate expressions and print \n",
    "vg = fg(vLtrue,vT)\n",
    "vdg = fdg(vLtrue,vdLtrue,vT,vdT)\n",
    "lprint(fr'g = ({vg/100:.3f} \\pm {vdg/100:.3f})\\,\\mathrm{{[m/sec^2]}}')\n"
   ]
  },
  {
   "cell_type": "code",
   "execution_count": null,
   "id": "3201a258",
   "metadata": {},
   "outputs": [],
   "source": []
  },
  {
   "cell_type": "code",
   "execution_count": null,
   "id": "7a6a34d1",
   "metadata": {},
   "outputs": [],
   "source": []
  }
 ],
 "metadata": {
  "kernelspec": {
   "display_name": "Python 3",
   "language": "python",
   "name": "python3"
  },
  "language_info": {
   "codemirror_mode": {
    "name": "ipython",
    "version": 3
   },
   "file_extension": ".py",
   "mimetype": "text/x-python",
   "name": "python",
   "nbconvert_exporter": "python",
   "pygments_lexer": "ipython3",
   "version": "3.8.8"
  }
 },
 "nbformat": 4,
 "nbformat_minor": 5
}
