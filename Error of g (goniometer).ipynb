{
 "cells": [
  {
   "cell_type": "markdown",
   "id": "17543c46",
   "metadata": {},
   "source": [
    "# Error Propagation For g"
   ]
  },
  {
   "cell_type": "markdown",
   "id": "1f69c475",
   "metadata": {},
   "source": [
    "Simulation\n"
   ]
  },
  {
   "cell_type": "code",
   "execution_count": 24,
   "id": "97d22e50",
   "metadata": {},
   "outputs": [],
   "source": [
    "import numpy as np                                     # Matlab like syntax for linear algebra and functions\n",
    "import matplotlib.pyplot as plt                        # Plots and figures like you know them from Matlab\n",
    "import seaborn as sns                                  # Make the plots nicer to look at\n",
    "from iminuit import Minuit                             # The actual fitting tool, better than scipy's\n",
    "import sys       \n",
    "import scipy\n",
    "\n",
    "sys.path.append('External_Functions')\n",
    "from ExternalFunctions import Chi2Regression\n",
    "from ExternalFunctions import nice_string_output, add_text_to_ax # useful functions to print fit results on figure\n",
    "\n"
   ]
  },
  {
   "cell_type": "markdown",
   "id": "325a2174",
   "metadata": {},
   "source": [
    "Analytical"
   ]
  },
  {
   "cell_type": "code",
   "execution_count": 25,
   "id": "66425fe8",
   "metadata": {},
   "outputs": [
    {
     "name": "stdout",
     "output_type": "stream",
     "text": [
      "  Mean = 9.088,    Std = 0.134\n"
     ]
    },
    {
     "data": {
      "image/png": "[encoded data removed]",
      "text/plain": [
       "<Figure size 1152x432 with 1 Axes>"
      ]
     },
     "metadata": {
      "needs_background": "light"
     },
     "output_type": "display_data"
    }
   ],
   "source": [
    "import numpy as np                                     # Matlab like syntax for linear algebra and functions\n",
    "import matplotlib.pyplot as plt                        # Plots and figures like you know them from Matlab\n",
    "import seaborn as sns                                  # Make the plots nicer to look at\n",
    "from iminuit import Minuit                             # The actual fitting tool, better than scipy's\n",
    "import sys       \n",
    "import scipy\n",
    "\n",
    "sys.path.append('External_Functions')\n",
    "from ExternalFunctions import Chi2Regression\n",
    "from ExternalFunctions import nice_string_output, add_text_to_ax # useful functions to print fit results on figure\n",
    "\n",
    "# First we set the parameters of the program:\n",
    "N_exp = 10000           # Number of \"experiments\" (i.e. drawing from random distributions)\n",
    "save_plots = False\n",
    "r = np.random\n",
    "r.seed(42)\n",
    "\n",
    "\n",
    "mua   =  1.58\n",
    "siga  =  0.02\n",
    "mutheta   =  0.266\n",
    "sigtheta  =  0.002\n",
    "mudb = 13.10\n",
    "sigdb = 0.06\n",
    "mudr = 6.13\n",
    "sigdr = 0.01\n",
    "\n",
    "\n",
    "a = r.normal(mua, siga, N_exp)\n",
    "theta = r.normal(mutheta, sigtheta, N_exp)\n",
    "db = r.normal(mudb, sigdb, N_exp)\n",
    "dr = r.normal(mudr, sigdr, N_exp)\n",
    "\n",
    "y_all=a/np.sin(theta)*(1+2/5*db**2/(db**2-dr**2))\n",
    "\n",
    "nbins = 200\n",
    "xmin, xmax = 7, 11\n",
    "binwidth = (xmax-xmin)/nbins\n",
    "\n",
    "fig2, ax2 = plt.subplots(figsize=(16, 6));\n",
    "counts, bin_edges, _ = ax2.hist(y_all, nbins, range=(xmin, xmax), histtype='step', linewidth=2)\n",
    "bin_centers = (bin_edges[1:] + bin_edges[:-1])/2\n",
    "s_counts = np.sqrt(counts)\n",
    "\n",
    "mean = y_all.mean()\n",
    "std = y_all.std(ddof=1)\n",
    "print(f\"  Mean = {mean:5.3f},    Std = {std:5.3f}\")\n",
    "\n",
    "\n"
   ]
  },
  {
   "cell_type": "code",
   "execution_count": 26,
   "id": "97d28b1b",
   "metadata": {},
   "outputs": [
    {
     "data": {
      "text/latex": [
       "$$g = \\frac{a \\left(\\frac{0.4 Dball^{2}}{Dball^{2} - Drail^{2}} + 1\\right)}{\\sin{\\left(\\theta \\right)}}$$"
      ],
      "text/plain": [
       "<IPython.core.display.Latex object>"
      ]
     },
     "metadata": {},
     "output_type": "display_data"
    },
    {
     "data": {
      "text/latex": [
       "$$\\sigma_{g} = \\sqrt{\\frac{0.64 Dball^{4} Drail^{2} a^{2} \\sigma_{Drail}^{2}}{\\left(Dball^{2} - Drail^{2}\\right)^{4} \\sin^{2}{\\left(\\theta \\right)}} + \\frac{0.64 a^{2} \\sigma_{Dball}^{2} \\left(- \\frac{Dball^{3}}{\\left(Dball^{2} - Drail^{2}\\right)^{2}} + \\frac{Dball}{Dball^{2} - Drail^{2}}\\right)^{2}}{\\sin^{2}{\\left(\\theta \\right)}} + \\frac{a^{2} \\sigma_{\\theta}^{2} \\left(\\frac{0.4 Dball^{2}}{Dball^{2} - Drail^{2}} + 1\\right)^{2} \\cos^{2}{\\left(\\theta \\right)}}{\\sin^{4}{\\left(\\theta \\right)}} + \\frac{\\sigma_{a}^{2} \\left(\\frac{0.4 Dball^{2}}{Dball^{2} - Drail^{2}} + 1\\right)^{2}}{\\sin^{2}{\\left(\\theta \\right)}}}$$"
      ],
      "text/plain": [
       "<IPython.core.display.Latex object>"
      ]
     },
     "metadata": {},
     "output_type": "display_data"
    },
    {
     "data": {
      "text/latex": [
       "$$g = (9.1 \\pm 0.1)\\,\\mathrm{m}$$"
      ],
      "text/plain": [
       "<IPython.core.display.Latex object>"
      ]
     },
     "metadata": {},
     "output_type": "display_data"
    }
   ],
   "source": [
    "# Import SymPy: \n",
    "from sympy import * \n",
    "from IPython.core.display import Latex\n",
    "\n",
    "def lprint(*args,**kwargs):\n",
    "    \"\"\"Pretty print arguments as LaTeX using IPython display system \n",
    "    \n",
    "    Parameters\n",
    "    ----------\n",
    "    args : tuple \n",
    "        What to print (in LaTeX math mode)\n",
    "    kwargs : dict \n",
    "        optional keywords to pass to `display` \n",
    "    \"\"\"\n",
    "    display(Latex('$$'+' '.join(args)+'$$'),**kwargs)\n",
    "    \n",
    "    \n",
    "# Define variables:\n",
    "g,a,theta,dball,drail = symbols(\"g, a, theta, Dball, Drail \")\n",
    "dg,da,dtheta,ddball,ddrail = symbols(\"sigma_g, sigma_a, sigma_theta, sigma_Dball, sigma_Drail\")\n",
    "\n",
    "# Perimeter:\n",
    "# Define relation, and print:\n",
    "g = a/sin(theta)*(1+2/5*dball**2/(dball**2-drail**2))\n",
    "\n",
    "lprint(latex(Eq(symbols('g'),g)))\n",
    "\n",
    "# Calculate uncertainty and print:\n",
    "dg = sqrt((g.diff(a)*da)**2+(g.diff(theta)*dtheta)**2+(g.diff(dball)*ddball)**2+(g.diff(drail)*ddrail)**2)\n",
    "lprint(latex(Eq(symbols('sigma_g'), dg)))\n",
    "\n",
    "# Turn expression into numerical functions \n",
    "fg = lambdify((a,theta,dball,drail),g)\n",
    "fdg = lambdify((a,theta,dball,drail,da,dtheta,ddball,ddrail),dg)\n",
    "\n",
    "# Define values and their errors\n",
    "\n",
    "va=mua\n",
    "vda=siga\n",
    "vtheta=mutheta\n",
    "vdtheta=sigtheta\n",
    "vdball=mudb\n",
    "vddball=sigdb\n",
    "vdrail=mudr\n",
    "vddrail=sigdr\n",
    "\n",
    "\n",
    "\n",
    "# Numerically evaluate expressions and print \n",
    "vg = fg(va,vtheta,vdball,vdrail)\n",
    "vdg = fdg(va,vtheta,vdball,vdrail,vda,vdtheta,vddball,vddrail)\n",
    "lprint(fr'g = ({vg:.1f} \\pm {vdg:.1f})\\,\\mathrm{{m}}')\n",
    "\n"
   ]
  }
 ],
 "metadata": {
  "kernelspec": {
   "display_name": "Python 3 (ipykernel)",
   "language": "python",
   "name": "python3"
  },
  "language_info": {
   "codemirror_mode": {
    "name": "ipython",
    "version": 3
   },
   "file_extension": ".py",
   "mimetype": "text/x-python",
   "name": "python",
   "nbconvert_exporter": "python",
   "pygments_lexer": "ipython3",
   "version": "3.9.7"
  }
 },
 "nbformat": 4,
 "nbformat_minor": 5
}
